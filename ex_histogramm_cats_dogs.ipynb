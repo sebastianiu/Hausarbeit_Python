{
  "nbformat": 4,
  "nbformat_minor": 0,
  "metadata": {
    "colab": {
      "provenance": [],
      "gpuType": "T4",
      "authorship_tag": "ABX9TyNEY3Q9mOVnOb/2FzFiIrsQ",
      "include_colab_link": true
    },
    "kernelspec": {
      "name": "python3",
      "display_name": "Python 3"
    },
    "language_info": {
      "name": "python"
    },
    "gpuClass": "standard"
  },
  "cells": [
    {
      "cell_type": "markdown",
      "metadata": {
        "id": "view-in-github",
        "colab_type": "text"
      },
      "source": [
        "<a href=\"https://colab.research.google.com/github/sebastianiu/Hausarbeit_Python/blob/dev/ex_histogramm_cats_dogs.ipynb\" target=\"_parent\"><img src=\"https://colab.research.google.com/assets/colab-badge.svg\" alt=\"Open In Colab\"/></a>"
      ]
    },
    {
      "cell_type": "code",
      "execution_count": 7,
      "metadata": {
        "colab": {
          "base_uri": "https://localhost:8080/",
          "height": 534
        },
        "id": "juEH5BOVhMSK",
        "outputId": "83bfc0f3-f649-4e6f-ce2b-5f1af7943121"
      },
      "outputs": [
        {
          "output_type": "execute_result",
          "data": {
            "text/plain": [
              "(array([[ 0.,  0.,  1.,  3.,  4., 17., 26., 26., 12., 11.],\n",
              "        [ 3.,  6., 17., 24., 25., 13., 10.,  2.,  0.,  0.]]),\n",
              " array([18.2558986 , 20.63771576, 23.01953291, 25.40135007, 27.78316722,\n",
              "        30.16498438, 32.54680153, 34.92861869, 37.31043584, 39.692253  ,\n",
              "        42.07407015]),\n",
              " <a list of 2 BarContainer objects>)"
            ]
          },
          "metadata": {},
          "execution_count": 7
        },
        {
          "output_type": "display_data",
          "data": {
            "text/plain": [
              "<Figure size 640x480 with 1 Axes>"
            ],
            "image/png": "[encoded data removed]"
          },
          "metadata": {}
        }
      ],
      "source": [
        "import numpy as np\n",
        "import matplotlib.pyplot as plt \n",
        "\n",
        "dogs = 100\n",
        "cats = 100\n",
        "\n",
        "dogs_height = 34 + 4 * np.random.randn(dogs)\n",
        "cats_height = 28 +4 * np.random.randn(cats)\n",
        "\n",
        "plt.hist([dogs_height, cats_height], color=('r','b'), label=('dogs','cats'))"
      ]
    }
  ]
}